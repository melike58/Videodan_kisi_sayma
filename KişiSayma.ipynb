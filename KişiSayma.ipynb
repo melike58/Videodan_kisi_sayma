{
  "cells": [
    {
      "cell_type": "code",
      "execution_count": 3,
      "metadata": {},
      "outputs": [
        {
          "name": "stdout",
          "output_type": "stream",
          "text": [
            "Requirement already satisfied: opencv-python-headless in /Users/melikeozdogan/anaconda3/lib/python3.11/site-packages (4.8.0.74)\n",
            "Requirement already satisfied: numpy>=1.21.2 in /Users/melikeozdogan/anaconda3/lib/python3.11/site-packages (from opencv-python-headless) (1.24.3)\n",
            "Note: you may need to restart the kernel to use updated packages.\n"
          ]
        }
      ],
      "source": [
        "pip install opencv-python-headless\n"
      ]
    },
    {
      "cell_type": "code",
      "execution_count": 4,
      "metadata": {
        "id": "HOftpUfoULW3"
      },
      "outputs": [],
      "source": [
        "# Kütüphaneleri yüklüyoruz.\n",
        "\n",
        "import cv2\n",
        "import time\n",
        "import numpy as np\n"
      ]
    },
    {
      "cell_type": "code",
      "execution_count": 5,
      "metadata": {
        "id": "P1yoGE0ZUMp2"
      },
      "outputs": [],
      "source": [
        "# Tracking işlemi yapıldığı için RAM dolup kod kapanmasın diye bunu çalıştırıyoruz.\n",
        "# Bazı donanım ya da kütüphane sürümlerine gerekli olmayabilir.\n",
        "\n",
        "import os\n",
        "os.environ[\"KMP_DUPLICATE_LIB_OK\"]=\"TRUE\""
      ]
    },
    {
      "cell_type": "code",
      "execution_count": 6,
      "metadata": {
        "id": "O--lXqYSUgto"
      },
      "outputs": [
        {
          "name": "stdout",
          "output_type": "stream",
          "text": [
            "Collecting ultralytics\n",
            "  Downloading ultralytics-8.0.141-py3-none-any.whl (607 kB)\n",
            "\u001b[2K     \u001b[90m━━━━━━━━━━━━━━━━━━━━━━━━━━━━━━━━━━━━━━━\u001b[0m \u001b[32m607.6/607.6 kB\u001b[0m \u001b[31m4.4 MB/s\u001b[0m eta \u001b[36m0:00:00\u001b[0ma \u001b[36m0:00:01\u001b[0m\n",
            "\u001b[?25hRequirement already satisfied: matplotlib>=3.2.2 in /Users/melikeozdogan/anaconda3/lib/python3.11/site-packages (from ultralytics) (3.7.1)\n",
            "Collecting opencv-python>=4.6.0 (from ultralytics)\n",
            "  Using cached opencv_python-4.8.0.74-cp37-abi3-macosx_11_0_arm64.whl (33.1 MB)\n",
            "Requirement already satisfied: Pillow>=7.1.2 in /Users/melikeozdogan/anaconda3/lib/python3.11/site-packages (from ultralytics) (9.4.0)\n",
            "Requirement already satisfied: PyYAML>=5.3.1 in /Users/melikeozdogan/anaconda3/lib/python3.11/site-packages (from ultralytics) (6.0)\n",
            "Requirement already satisfied: requests>=2.23.0 in /Users/melikeozdogan/anaconda3/lib/python3.11/site-packages (from ultralytics) (2.29.0)\n",
            "Requirement already satisfied: scipy>=1.4.1 in /Users/melikeozdogan/anaconda3/lib/python3.11/site-packages (from ultralytics) (1.10.1)\n",
            "Requirement already satisfied: torch>=1.7.0 in /Users/melikeozdogan/anaconda3/lib/python3.11/site-packages (from ultralytics) (2.0.1)\n",
            "Collecting torchvision>=0.8.1 (from ultralytics)\n",
            "  Downloading torchvision-0.15.2-cp311-cp311-macosx_11_0_arm64.whl (1.4 MB)\n",
            "\u001b[2K     \u001b[90m━━━━━━━━━━━━━━━━━━━━━━━━━━━━━━━━━━━━━━━━\u001b[0m \u001b[32m1.4/1.4 MB\u001b[0m \u001b[31m7.1 MB/s\u001b[0m eta \u001b[36m0:00:00\u001b[0m00:01\u001b[0m00:01\u001b[0mm\n",
            "\u001b[?25hRequirement already satisfied: tqdm>=4.64.0 in /Users/melikeozdogan/anaconda3/lib/python3.11/site-packages (from ultralytics) (4.65.0)\n",
            "Requirement already satisfied: pandas>=1.1.4 in /Users/melikeozdogan/anaconda3/lib/python3.11/site-packages (from ultralytics) (1.5.3)\n",
            "Requirement already satisfied: seaborn>=0.11.0 in /Users/melikeozdogan/anaconda3/lib/python3.11/site-packages (from ultralytics) (0.12.2)\n",
            "Requirement already satisfied: psutil in /Users/melikeozdogan/anaconda3/lib/python3.11/site-packages (from ultralytics) (5.9.0)\n",
            "Requirement already satisfied: contourpy>=1.0.1 in /Users/melikeozdogan/anaconda3/lib/python3.11/site-packages (from matplotlib>=3.2.2->ultralytics) (1.0.5)\n",
            "Requirement already satisfied: cycler>=0.10 in /Users/melikeozdogan/anaconda3/lib/python3.11/site-packages (from matplotlib>=3.2.2->ultralytics) (0.11.0)\n",
            "Requirement already satisfied: fonttools>=4.22.0 in /Users/melikeozdogan/anaconda3/lib/python3.11/site-packages (from matplotlib>=3.2.2->ultralytics) (4.25.0)\n",
            "Requirement already satisfied: kiwisolver>=1.0.1 in /Users/melikeozdogan/anaconda3/lib/python3.11/site-packages (from matplotlib>=3.2.2->ultralytics) (1.4.4)\n",
            "Requirement already satisfied: numpy>=1.20 in /Users/melikeozdogan/anaconda3/lib/python3.11/site-packages (from matplotlib>=3.2.2->ultralytics) (1.24.3)\n",
            "Requirement already satisfied: packaging>=20.0 in /Users/melikeozdogan/anaconda3/lib/python3.11/site-packages (from matplotlib>=3.2.2->ultralytics) (23.0)\n",
            "Requirement already satisfied: pyparsing>=2.3.1 in /Users/melikeozdogan/anaconda3/lib/python3.11/site-packages (from matplotlib>=3.2.2->ultralytics) (3.0.9)\n",
            "Requirement already satisfied: python-dateutil>=2.7 in /Users/melikeozdogan/anaconda3/lib/python3.11/site-packages (from matplotlib>=3.2.2->ultralytics) (2.8.2)\n",
            "Requirement already satisfied: pytz>=2020.1 in /Users/melikeozdogan/anaconda3/lib/python3.11/site-packages (from pandas>=1.1.4->ultralytics) (2022.7)\n",
            "Requirement already satisfied: charset-normalizer<4,>=2 in /Users/melikeozdogan/anaconda3/lib/python3.11/site-packages (from requests>=2.23.0->ultralytics) (2.0.4)\n",
            "Requirement already satisfied: idna<4,>=2.5 in /Users/melikeozdogan/anaconda3/lib/python3.11/site-packages (from requests>=2.23.0->ultralytics) (3.4)\n",
            "Requirement already satisfied: urllib3<1.27,>=1.21.1 in /Users/melikeozdogan/anaconda3/lib/python3.11/site-packages (from requests>=2.23.0->ultralytics) (1.26.16)\n",
            "Requirement already satisfied: certifi>=2017.4.17 in /Users/melikeozdogan/anaconda3/lib/python3.11/site-packages (from requests>=2.23.0->ultralytics) (2023.5.7)\n",
            "Requirement already satisfied: filelock in /Users/melikeozdogan/anaconda3/lib/python3.11/site-packages (from torch>=1.7.0->ultralytics) (3.9.0)\n",
            "Requirement already satisfied: typing-extensions in /Users/melikeozdogan/anaconda3/lib/python3.11/site-packages (from torch>=1.7.0->ultralytics) (4.6.3)\n",
            "Requirement already satisfied: sympy in /Users/melikeozdogan/anaconda3/lib/python3.11/site-packages (from torch>=1.7.0->ultralytics) (1.11.1)\n",
            "Requirement already satisfied: networkx in /Users/melikeozdogan/anaconda3/lib/python3.11/site-packages (from torch>=1.7.0->ultralytics) (2.8.4)\n",
            "Requirement already satisfied: jinja2 in /Users/melikeozdogan/anaconda3/lib/python3.11/site-packages (from torch>=1.7.0->ultralytics) (3.1.2)\n",
            "Requirement already satisfied: six>=1.5 in /Users/melikeozdogan/anaconda3/lib/python3.11/site-packages (from python-dateutil>=2.7->matplotlib>=3.2.2->ultralytics) (1.16.0)\n",
            "Requirement already satisfied: MarkupSafe>=2.0 in /Users/melikeozdogan/anaconda3/lib/python3.11/site-packages (from jinja2->torch>=1.7.0->ultralytics) (2.1.1)\n",
            "Requirement already satisfied: mpmath>=0.19 in /Users/melikeozdogan/anaconda3/lib/python3.11/site-packages (from sympy->torch>=1.7.0->ultralytics) (1.2.1)\n",
            "Installing collected packages: opencv-python, torchvision, ultralytics\n",
            "Successfully installed opencv-python-4.8.0.74 torchvision-0.15.2 ultralytics-8.0.141\n",
            "Note: you may need to restart the kernel to use updated packages.\n"
          ]
        }
      ],
      "source": [
        "pip install ultralytics\n"
      ]
    },
    {
      "cell_type": "markdown",
      "metadata": {},
      "source": []
    },
    {
      "cell_type": "code",
      "execution_count": 7,
      "metadata": {
        "colab": {
          "base_uri": "https://localhost:8080/"
        },
        "id": "7kZbAZO_URLx",
        "outputId": "1679b855-0cc4-4cfc-ec17-c4b127d51459"
      },
      "outputs": [
        {
          "name": "stderr",
          "output_type": "stream",
          "text": [
            "Downloading https://github.com/ultralytics/assets/releases/download/v0.0.0/yolov8x.pt to 'yolov8x.pt'...\n",
            "100%|██████████| 131M/131M [02:27<00:00, 926kB/s]  \n"
          ]
        }
      ],
      "source": [
        "# Burada modeli yüklüyoruz. Ben x sürümünü kullandım. En yavaş çalışan sürüm bu\n",
        "# Ama en iyi sonuçları veren sürüm de bu. Eğer daha hızlı olsun derseniz diğer\n",
        "# düşük sürümleri kullanabilirsiniz.\n",
        "from ultralytics import YOLO\n",
        "model = YOLO(\"yolov8x.pt\")"
      ]
    },
    {
      "cell_type": "code",
      "execution_count": 13,
      "metadata": {
        "colab": {
          "base_uri": "https://localhost:8080/",
          "height": 1000
        },
        "id": "_-e95Ta6Uuyj",
        "outputId": "1e370dca-4605-41e9-bf2a-07e306ef0a71"
      },
      "outputs": [
        {
          "ename": "KeyboardInterrupt",
          "evalue": "",
          "output_type": "error",
          "traceback": [
            "\u001b[0;31m---------------------------------------------------------------------------\u001b[0m",
            "\u001b[0;31mKeyboardInterrupt\u001b[0m                         Traceback (most recent call last)",
            "Cell \u001b[0;32mIn[13], line 58\u001b[0m\n\u001b[1;32m     56\u001b[0m cv2\u001b[39m.\u001b[39mline(frame, (\u001b[39m0\u001b[39m,\u001b[39m130\u001b[39m), (\u001b[39m640\u001b[39m,\u001b[39m280\u001b[39m), (\u001b[39m255\u001b[39m,\u001b[39m0\u001b[39m,\u001b[39m255\u001b[39m), \u001b[39m3\u001b[39m)\n\u001b[1;32m     57\u001b[0m \u001b[39m# Resmi modele veriyoruz. Tracking yapılacağı için track modunda verdik.\u001b[39;00m\n\u001b[0;32m---> 58\u001b[0m results \u001b[39m=\u001b[39m model\u001b[39m.\u001b[39mtrack(rgb_img, persist\u001b[39m=\u001b[39m\u001b[39mTrue\u001b[39;00m, verbose\u001b[39m=\u001b[39m\u001b[39mFalse\u001b[39;00m)\n\u001b[1;32m     59\u001b[0m \u001b[39m# Kaç tane sonuç bulunmuşsa o kadar dönece bu döngü\u001b[39;00m\n\u001b[1;32m     60\u001b[0m \u001b[39mfor\u001b[39;00m i \u001b[39min\u001b[39;00m \u001b[39mrange\u001b[39m(\u001b[39mlen\u001b[39m(results[\u001b[39m0\u001b[39m]\u001b[39m.\u001b[39mboxes)):\n\u001b[1;32m     61\u001b[0m     \u001b[39m# Burada her bir nesne için döngü dönecek. Burada yapılan işlemlere her bir nesneye uygulanıyor o yüzden\u001b[39;00m\n\u001b[1;32m     62\u001b[0m     \u001b[39m# Tespit edilen nesnelerin konumları.\u001b[39;00m\n\u001b[1;32m     63\u001b[0m     \u001b[39m# x1 ve y1 sol üst köşe. x2 ve y2 sağ alt köşe koordinatları.\u001b[39;00m\n",
            "File \u001b[0;32m~/anaconda3/lib/python3.11/site-packages/ultralytics/engine/model.py:277\u001b[0m, in \u001b[0;36mYOLO.track\u001b[0;34m(self, source, stream, persist, **kwargs)\u001b[0m\n\u001b[1;32m    275\u001b[0m kwargs[\u001b[39m'\u001b[39m\u001b[39mconf\u001b[39m\u001b[39m'\u001b[39m] \u001b[39m=\u001b[39m conf\n\u001b[1;32m    276\u001b[0m kwargs[\u001b[39m'\u001b[39m\u001b[39mmode\u001b[39m\u001b[39m'\u001b[39m] \u001b[39m=\u001b[39m \u001b[39m'\u001b[39m\u001b[39mtrack\u001b[39m\u001b[39m'\u001b[39m\n\u001b[0;32m--> 277\u001b[0m \u001b[39mreturn\u001b[39;00m \u001b[39mself\u001b[39m\u001b[39m.\u001b[39mpredict(source\u001b[39m=\u001b[39msource, stream\u001b[39m=\u001b[39mstream, \u001b[39m*\u001b[39m\u001b[39m*\u001b[39mkwargs)\n",
            "File \u001b[0;32m~/anaconda3/lib/python3.11/site-packages/torch/utils/_contextlib.py:115\u001b[0m, in \u001b[0;36mcontext_decorator.<locals>.decorate_context\u001b[0;34m(*args, **kwargs)\u001b[0m\n\u001b[1;32m    112\u001b[0m \u001b[39m@functools\u001b[39m\u001b[39m.\u001b[39mwraps(func)\n\u001b[1;32m    113\u001b[0m \u001b[39mdef\u001b[39;00m \u001b[39mdecorate_context\u001b[39m(\u001b[39m*\u001b[39margs, \u001b[39m*\u001b[39m\u001b[39m*\u001b[39mkwargs):\n\u001b[1;32m    114\u001b[0m     \u001b[39mwith\u001b[39;00m ctx_factory():\n\u001b[0;32m--> 115\u001b[0m         \u001b[39mreturn\u001b[39;00m func(\u001b[39m*\u001b[39margs, \u001b[39m*\u001b[39m\u001b[39m*\u001b[39mkwargs)\n",
            "File \u001b[0;32m~/anaconda3/lib/python3.11/site-packages/ultralytics/engine/model.py:254\u001b[0m, in \u001b[0;36mYOLO.predict\u001b[0;34m(self, source, stream, **kwargs)\u001b[0m\n\u001b[1;32m    252\u001b[0m     \u001b[39mif\u001b[39;00m \u001b[39m'\u001b[39m\u001b[39mproject\u001b[39m\u001b[39m'\u001b[39m \u001b[39min\u001b[39;00m overrides \u001b[39mor\u001b[39;00m \u001b[39m'\u001b[39m\u001b[39mname\u001b[39m\u001b[39m'\u001b[39m \u001b[39min\u001b[39;00m overrides:\n\u001b[1;32m    253\u001b[0m         \u001b[39mself\u001b[39m\u001b[39m.\u001b[39mpredictor\u001b[39m.\u001b[39msave_dir \u001b[39m=\u001b[39m \u001b[39mself\u001b[39m\u001b[39m.\u001b[39mpredictor\u001b[39m.\u001b[39mget_save_dir()\n\u001b[0;32m--> 254\u001b[0m \u001b[39mreturn\u001b[39;00m \u001b[39mself\u001b[39m\u001b[39m.\u001b[39mpredictor\u001b[39m.\u001b[39mpredict_cli(source\u001b[39m=\u001b[39msource) \u001b[39mif\u001b[39;00m is_cli \u001b[39melse\u001b[39;00m \u001b[39mself\u001b[39m\u001b[39m.\u001b[39mpredictor(source\u001b[39m=\u001b[39msource, stream\u001b[39m=\u001b[39mstream)\n",
            "File \u001b[0;32m~/anaconda3/lib/python3.11/site-packages/ultralytics/engine/predictor.py:195\u001b[0m, in \u001b[0;36mBasePredictor.__call__\u001b[0;34m(self, source, model, stream, *args, **kwargs)\u001b[0m\n\u001b[1;32m    193\u001b[0m     \u001b[39mreturn\u001b[39;00m \u001b[39mself\u001b[39m\u001b[39m.\u001b[39mstream_inference(source, model, \u001b[39m*\u001b[39margs, \u001b[39m*\u001b[39m\u001b[39m*\u001b[39mkwargs)\n\u001b[1;32m    194\u001b[0m \u001b[39melse\u001b[39;00m:\n\u001b[0;32m--> 195\u001b[0m     \u001b[39mreturn\u001b[39;00m \u001b[39mlist\u001b[39m(\u001b[39mself\u001b[39m\u001b[39m.\u001b[39mstream_inference(source, model, \u001b[39m*\u001b[39margs, \u001b[39m*\u001b[39m\u001b[39m*\u001b[39mkwargs))\n",
            "File \u001b[0;32m~/anaconda3/lib/python3.11/site-packages/torch/utils/_contextlib.py:35\u001b[0m, in \u001b[0;36m_wrap_generator.<locals>.generator_context\u001b[0;34m(*args, **kwargs)\u001b[0m\n\u001b[1;32m     32\u001b[0m \u001b[39mtry\u001b[39;00m:\n\u001b[1;32m     33\u001b[0m     \u001b[39m# Issuing `None` to a generator fires it up\u001b[39;00m\n\u001b[1;32m     34\u001b[0m     \u001b[39mwith\u001b[39;00m ctx_factory():\n\u001b[0;32m---> 35\u001b[0m         response \u001b[39m=\u001b[39m gen\u001b[39m.\u001b[39msend(\u001b[39mNone\u001b[39;00m)\n\u001b[1;32m     37\u001b[0m     \u001b[39mwhile\u001b[39;00m \u001b[39mTrue\u001b[39;00m:\n\u001b[1;32m     38\u001b[0m         \u001b[39mtry\u001b[39;00m:\n\u001b[1;32m     39\u001b[0m             \u001b[39m# Forward the response to our caller and get its next request\u001b[39;00m\n",
            "File \u001b[0;32m~/anaconda3/lib/python3.11/site-packages/ultralytics/engine/predictor.py:251\u001b[0m, in \u001b[0;36mBasePredictor.stream_inference\u001b[0;34m(self, source, model, *args, **kwargs)\u001b[0m\n\u001b[1;32m    249\u001b[0m \u001b[39m# Inference\u001b[39;00m\n\u001b[1;32m    250\u001b[0m \u001b[39mwith\u001b[39;00m profilers[\u001b[39m1\u001b[39m]:\n\u001b[0;32m--> 251\u001b[0m     preds \u001b[39m=\u001b[39m \u001b[39mself\u001b[39m\u001b[39m.\u001b[39minference(im, \u001b[39m*\u001b[39margs, \u001b[39m*\u001b[39m\u001b[39m*\u001b[39mkwargs)\n\u001b[1;32m    253\u001b[0m \u001b[39m# Postprocess\u001b[39;00m\n\u001b[1;32m    254\u001b[0m \u001b[39mwith\u001b[39;00m profilers[\u001b[39m2\u001b[39m]:\n",
            "File \u001b[0;32m~/anaconda3/lib/python3.11/site-packages/ultralytics/engine/predictor.py:137\u001b[0m, in \u001b[0;36mBasePredictor.inference\u001b[0;34m(self, im, *args, **kwargs)\u001b[0m\n\u001b[1;32m    134\u001b[0m \u001b[39mdef\u001b[39;00m \u001b[39minference\u001b[39m(\u001b[39mself\u001b[39m, im, \u001b[39m*\u001b[39margs, \u001b[39m*\u001b[39m\u001b[39m*\u001b[39mkwargs):\n\u001b[1;32m    135\u001b[0m     visualize \u001b[39m=\u001b[39m increment_path(\u001b[39mself\u001b[39m\u001b[39m.\u001b[39msave_dir \u001b[39m/\u001b[39m Path(\u001b[39mself\u001b[39m\u001b[39m.\u001b[39mbatch[\u001b[39m0\u001b[39m][\u001b[39m0\u001b[39m])\u001b[39m.\u001b[39mstem,\n\u001b[1;32m    136\u001b[0m                                mkdir\u001b[39m=\u001b[39m\u001b[39mTrue\u001b[39;00m) \u001b[39mif\u001b[39;00m \u001b[39mself\u001b[39m\u001b[39m.\u001b[39margs\u001b[39m.\u001b[39mvisualize \u001b[39mand\u001b[39;00m (\u001b[39mnot\u001b[39;00m \u001b[39mself\u001b[39m\u001b[39m.\u001b[39msource_type\u001b[39m.\u001b[39mtensor) \u001b[39melse\u001b[39;00m \u001b[39mFalse\u001b[39;00m\n\u001b[0;32m--> 137\u001b[0m     \u001b[39mreturn\u001b[39;00m \u001b[39mself\u001b[39m\u001b[39m.\u001b[39mmodel(im, augment\u001b[39m=\u001b[39m\u001b[39mself\u001b[39m\u001b[39m.\u001b[39margs\u001b[39m.\u001b[39maugment, visualize\u001b[39m=\u001b[39mvisualize)\n",
            "File \u001b[0;32m~/anaconda3/lib/python3.11/site-packages/torch/nn/modules/module.py:1501\u001b[0m, in \u001b[0;36mModule._call_impl\u001b[0;34m(self, *args, **kwargs)\u001b[0m\n\u001b[1;32m   1496\u001b[0m \u001b[39m# If we don't have any hooks, we want to skip the rest of the logic in\u001b[39;00m\n\u001b[1;32m   1497\u001b[0m \u001b[39m# this function, and just call forward.\u001b[39;00m\n\u001b[1;32m   1498\u001b[0m \u001b[39mif\u001b[39;00m \u001b[39mnot\u001b[39;00m (\u001b[39mself\u001b[39m\u001b[39m.\u001b[39m_backward_hooks \u001b[39mor\u001b[39;00m \u001b[39mself\u001b[39m\u001b[39m.\u001b[39m_backward_pre_hooks \u001b[39mor\u001b[39;00m \u001b[39mself\u001b[39m\u001b[39m.\u001b[39m_forward_hooks \u001b[39mor\u001b[39;00m \u001b[39mself\u001b[39m\u001b[39m.\u001b[39m_forward_pre_hooks\n\u001b[1;32m   1499\u001b[0m         \u001b[39mor\u001b[39;00m _global_backward_pre_hooks \u001b[39mor\u001b[39;00m _global_backward_hooks\n\u001b[1;32m   1500\u001b[0m         \u001b[39mor\u001b[39;00m _global_forward_hooks \u001b[39mor\u001b[39;00m _global_forward_pre_hooks):\n\u001b[0;32m-> 1501\u001b[0m     \u001b[39mreturn\u001b[39;00m forward_call(\u001b[39m*\u001b[39margs, \u001b[39m*\u001b[39m\u001b[39m*\u001b[39mkwargs)\n\u001b[1;32m   1502\u001b[0m \u001b[39m# Do not call functions when jit is used\u001b[39;00m\n\u001b[1;32m   1503\u001b[0m full_backward_hooks, non_full_backward_hooks \u001b[39m=\u001b[39m [], []\n",
            "File \u001b[0;32m~/anaconda3/lib/python3.11/site-packages/ultralytics/nn/autobackend.py:334\u001b[0m, in \u001b[0;36mAutoBackend.forward\u001b[0;34m(self, im, augment, visualize)\u001b[0m\n\u001b[1;32m    331\u001b[0m     im \u001b[39m=\u001b[39m im\u001b[39m.\u001b[39mpermute(\u001b[39m0\u001b[39m, \u001b[39m2\u001b[39m, \u001b[39m3\u001b[39m, \u001b[39m1\u001b[39m)  \u001b[39m# torch BCHW to numpy BHWC shape(1,320,192,3)\u001b[39;00m\n\u001b[1;32m    333\u001b[0m \u001b[39mif\u001b[39;00m \u001b[39mself\u001b[39m\u001b[39m.\u001b[39mpt \u001b[39mor\u001b[39;00m \u001b[39mself\u001b[39m\u001b[39m.\u001b[39mnn_module:  \u001b[39m# PyTorch\u001b[39;00m\n\u001b[0;32m--> 334\u001b[0m     y \u001b[39m=\u001b[39m \u001b[39mself\u001b[39m\u001b[39m.\u001b[39mmodel(im, augment\u001b[39m=\u001b[39maugment, visualize\u001b[39m=\u001b[39mvisualize) \u001b[39mif\u001b[39;00m augment \u001b[39mor\u001b[39;00m visualize \u001b[39melse\u001b[39;00m \u001b[39mself\u001b[39m\u001b[39m.\u001b[39mmodel(im)\n\u001b[1;32m    335\u001b[0m \u001b[39melif\u001b[39;00m \u001b[39mself\u001b[39m\u001b[39m.\u001b[39mjit:  \u001b[39m# TorchScript\u001b[39;00m\n\u001b[1;32m    336\u001b[0m     y \u001b[39m=\u001b[39m \u001b[39mself\u001b[39m\u001b[39m.\u001b[39mmodel(im)\n",
            "File \u001b[0;32m~/anaconda3/lib/python3.11/site-packages/torch/nn/modules/module.py:1501\u001b[0m, in \u001b[0;36mModule._call_impl\u001b[0;34m(self, *args, **kwargs)\u001b[0m\n\u001b[1;32m   1496\u001b[0m \u001b[39m# If we don't have any hooks, we want to skip the rest of the logic in\u001b[39;00m\n\u001b[1;32m   1497\u001b[0m \u001b[39m# this function, and just call forward.\u001b[39;00m\n\u001b[1;32m   1498\u001b[0m \u001b[39mif\u001b[39;00m \u001b[39mnot\u001b[39;00m (\u001b[39mself\u001b[39m\u001b[39m.\u001b[39m_backward_hooks \u001b[39mor\u001b[39;00m \u001b[39mself\u001b[39m\u001b[39m.\u001b[39m_backward_pre_hooks \u001b[39mor\u001b[39;00m \u001b[39mself\u001b[39m\u001b[39m.\u001b[39m_forward_hooks \u001b[39mor\u001b[39;00m \u001b[39mself\u001b[39m\u001b[39m.\u001b[39m_forward_pre_hooks\n\u001b[1;32m   1499\u001b[0m         \u001b[39mor\u001b[39;00m _global_backward_pre_hooks \u001b[39mor\u001b[39;00m _global_backward_hooks\n\u001b[1;32m   1500\u001b[0m         \u001b[39mor\u001b[39;00m _global_forward_hooks \u001b[39mor\u001b[39;00m _global_forward_pre_hooks):\n\u001b[0;32m-> 1501\u001b[0m     \u001b[39mreturn\u001b[39;00m forward_call(\u001b[39m*\u001b[39margs, \u001b[39m*\u001b[39m\u001b[39m*\u001b[39mkwargs)\n\u001b[1;32m   1502\u001b[0m \u001b[39m# Do not call functions when jit is used\u001b[39;00m\n\u001b[1;32m   1503\u001b[0m full_backward_hooks, non_full_backward_hooks \u001b[39m=\u001b[39m [], []\n",
            "File \u001b[0;32m~/anaconda3/lib/python3.11/site-packages/ultralytics/nn/tasks.py:45\u001b[0m, in \u001b[0;36mBaseModel.forward\u001b[0;34m(self, x, *args, **kwargs)\u001b[0m\n\u001b[1;32m     43\u001b[0m \u001b[39mif\u001b[39;00m \u001b[39misinstance\u001b[39m(x, \u001b[39mdict\u001b[39m):  \u001b[39m# for cases of training and validating while training.\u001b[39;00m\n\u001b[1;32m     44\u001b[0m     \u001b[39mreturn\u001b[39;00m \u001b[39mself\u001b[39m\u001b[39m.\u001b[39mloss(x, \u001b[39m*\u001b[39margs, \u001b[39m*\u001b[39m\u001b[39m*\u001b[39mkwargs)\n\u001b[0;32m---> 45\u001b[0m \u001b[39mreturn\u001b[39;00m \u001b[39mself\u001b[39m\u001b[39m.\u001b[39mpredict(x, \u001b[39m*\u001b[39margs, \u001b[39m*\u001b[39m\u001b[39m*\u001b[39mkwargs)\n",
            "File \u001b[0;32m~/anaconda3/lib/python3.11/site-packages/ultralytics/nn/tasks.py:62\u001b[0m, in \u001b[0;36mBaseModel.predict\u001b[0;34m(self, x, profile, visualize, augment)\u001b[0m\n\u001b[1;32m     60\u001b[0m \u001b[39mif\u001b[39;00m augment:\n\u001b[1;32m     61\u001b[0m     \u001b[39mreturn\u001b[39;00m \u001b[39mself\u001b[39m\u001b[39m.\u001b[39m_predict_augment(x)\n\u001b[0;32m---> 62\u001b[0m \u001b[39mreturn\u001b[39;00m \u001b[39mself\u001b[39m\u001b[39m.\u001b[39m_predict_once(x, profile, visualize)\n",
            "File \u001b[0;32m~/anaconda3/lib/python3.11/site-packages/ultralytics/nn/tasks.py:82\u001b[0m, in \u001b[0;36mBaseModel._predict_once\u001b[0;34m(self, x, profile, visualize)\u001b[0m\n\u001b[1;32m     80\u001b[0m \u001b[39mif\u001b[39;00m profile:\n\u001b[1;32m     81\u001b[0m     \u001b[39mself\u001b[39m\u001b[39m.\u001b[39m_profile_one_layer(m, x, dt)\n\u001b[0;32m---> 82\u001b[0m x \u001b[39m=\u001b[39m m(x)  \u001b[39m# run\u001b[39;00m\n\u001b[1;32m     83\u001b[0m y\u001b[39m.\u001b[39mappend(x \u001b[39mif\u001b[39;00m m\u001b[39m.\u001b[39mi \u001b[39min\u001b[39;00m \u001b[39mself\u001b[39m\u001b[39m.\u001b[39msave \u001b[39melse\u001b[39;00m \u001b[39mNone\u001b[39;00m)  \u001b[39m# save output\u001b[39;00m\n\u001b[1;32m     84\u001b[0m \u001b[39mif\u001b[39;00m visualize:\n",
            "File \u001b[0;32m~/anaconda3/lib/python3.11/site-packages/torch/nn/modules/module.py:1501\u001b[0m, in \u001b[0;36mModule._call_impl\u001b[0;34m(self, *args, **kwargs)\u001b[0m\n\u001b[1;32m   1496\u001b[0m \u001b[39m# If we don't have any hooks, we want to skip the rest of the logic in\u001b[39;00m\n\u001b[1;32m   1497\u001b[0m \u001b[39m# this function, and just call forward.\u001b[39;00m\n\u001b[1;32m   1498\u001b[0m \u001b[39mif\u001b[39;00m \u001b[39mnot\u001b[39;00m (\u001b[39mself\u001b[39m\u001b[39m.\u001b[39m_backward_hooks \u001b[39mor\u001b[39;00m \u001b[39mself\u001b[39m\u001b[39m.\u001b[39m_backward_pre_hooks \u001b[39mor\u001b[39;00m \u001b[39mself\u001b[39m\u001b[39m.\u001b[39m_forward_hooks \u001b[39mor\u001b[39;00m \u001b[39mself\u001b[39m\u001b[39m.\u001b[39m_forward_pre_hooks\n\u001b[1;32m   1499\u001b[0m         \u001b[39mor\u001b[39;00m _global_backward_pre_hooks \u001b[39mor\u001b[39;00m _global_backward_hooks\n\u001b[1;32m   1500\u001b[0m         \u001b[39mor\u001b[39;00m _global_forward_hooks \u001b[39mor\u001b[39;00m _global_forward_pre_hooks):\n\u001b[0;32m-> 1501\u001b[0m     \u001b[39mreturn\u001b[39;00m forward_call(\u001b[39m*\u001b[39margs, \u001b[39m*\u001b[39m\u001b[39m*\u001b[39mkwargs)\n\u001b[1;32m   1502\u001b[0m \u001b[39m# Do not call functions when jit is used\u001b[39;00m\n\u001b[1;32m   1503\u001b[0m full_backward_hooks, non_full_backward_hooks \u001b[39m=\u001b[39m [], []\n",
            "File \u001b[0;32m~/anaconda3/lib/python3.11/site-packages/ultralytics/nn/modules/block.py:181\u001b[0m, in \u001b[0;36mC2f.forward\u001b[0;34m(self, x)\u001b[0m\n\u001b[1;32m    179\u001b[0m \u001b[39m\u001b[39m\u001b[39m\"\"\"Forward pass through C2f layer.\"\"\"\u001b[39;00m\n\u001b[1;32m    180\u001b[0m y \u001b[39m=\u001b[39m \u001b[39mlist\u001b[39m(\u001b[39mself\u001b[39m\u001b[39m.\u001b[39mcv1(x)\u001b[39m.\u001b[39mchunk(\u001b[39m2\u001b[39m, \u001b[39m1\u001b[39m))\n\u001b[0;32m--> 181\u001b[0m y\u001b[39m.\u001b[39mextend(m(y[\u001b[39m-\u001b[39m\u001b[39m1\u001b[39m]) \u001b[39mfor\u001b[39;00m m \u001b[39min\u001b[39;00m \u001b[39mself\u001b[39m\u001b[39m.\u001b[39mm)\n\u001b[1;32m    182\u001b[0m \u001b[39mreturn\u001b[39;00m \u001b[39mself\u001b[39m\u001b[39m.\u001b[39mcv2(torch\u001b[39m.\u001b[39mcat(y, \u001b[39m1\u001b[39m))\n",
            "File \u001b[0;32m~/anaconda3/lib/python3.11/site-packages/ultralytics/nn/modules/block.py:181\u001b[0m, in \u001b[0;36m<genexpr>\u001b[0;34m(.0)\u001b[0m\n\u001b[1;32m    179\u001b[0m \u001b[39m\u001b[39m\u001b[39m\"\"\"Forward pass through C2f layer.\"\"\"\u001b[39;00m\n\u001b[1;32m    180\u001b[0m y \u001b[39m=\u001b[39m \u001b[39mlist\u001b[39m(\u001b[39mself\u001b[39m\u001b[39m.\u001b[39mcv1(x)\u001b[39m.\u001b[39mchunk(\u001b[39m2\u001b[39m, \u001b[39m1\u001b[39m))\n\u001b[0;32m--> 181\u001b[0m y\u001b[39m.\u001b[39mextend(m(y[\u001b[39m-\u001b[39m\u001b[39m1\u001b[39m]) \u001b[39mfor\u001b[39;00m m \u001b[39min\u001b[39;00m \u001b[39mself\u001b[39m\u001b[39m.\u001b[39mm)\n\u001b[1;32m    182\u001b[0m \u001b[39mreturn\u001b[39;00m \u001b[39mself\u001b[39m\u001b[39m.\u001b[39mcv2(torch\u001b[39m.\u001b[39mcat(y, \u001b[39m1\u001b[39m))\n",
            "File \u001b[0;32m~/anaconda3/lib/python3.11/site-packages/torch/nn/modules/module.py:1501\u001b[0m, in \u001b[0;36mModule._call_impl\u001b[0;34m(self, *args, **kwargs)\u001b[0m\n\u001b[1;32m   1496\u001b[0m \u001b[39m# If we don't have any hooks, we want to skip the rest of the logic in\u001b[39;00m\n\u001b[1;32m   1497\u001b[0m \u001b[39m# this function, and just call forward.\u001b[39;00m\n\u001b[1;32m   1498\u001b[0m \u001b[39mif\u001b[39;00m \u001b[39mnot\u001b[39;00m (\u001b[39mself\u001b[39m\u001b[39m.\u001b[39m_backward_hooks \u001b[39mor\u001b[39;00m \u001b[39mself\u001b[39m\u001b[39m.\u001b[39m_backward_pre_hooks \u001b[39mor\u001b[39;00m \u001b[39mself\u001b[39m\u001b[39m.\u001b[39m_forward_hooks \u001b[39mor\u001b[39;00m \u001b[39mself\u001b[39m\u001b[39m.\u001b[39m_forward_pre_hooks\n\u001b[1;32m   1499\u001b[0m         \u001b[39mor\u001b[39;00m _global_backward_pre_hooks \u001b[39mor\u001b[39;00m _global_backward_hooks\n\u001b[1;32m   1500\u001b[0m         \u001b[39mor\u001b[39;00m _global_forward_hooks \u001b[39mor\u001b[39;00m _global_forward_pre_hooks):\n\u001b[0;32m-> 1501\u001b[0m     \u001b[39mreturn\u001b[39;00m forward_call(\u001b[39m*\u001b[39margs, \u001b[39m*\u001b[39m\u001b[39m*\u001b[39mkwargs)\n\u001b[1;32m   1502\u001b[0m \u001b[39m# Do not call functions when jit is used\u001b[39;00m\n\u001b[1;32m   1503\u001b[0m full_backward_hooks, non_full_backward_hooks \u001b[39m=\u001b[39m [], []\n",
            "File \u001b[0;32m~/anaconda3/lib/python3.11/site-packages/ultralytics/nn/modules/block.py:283\u001b[0m, in \u001b[0;36mBottleneck.forward\u001b[0;34m(self, x)\u001b[0m\n\u001b[1;32m    281\u001b[0m \u001b[39mdef\u001b[39;00m \u001b[39mforward\u001b[39m(\u001b[39mself\u001b[39m, x):\n\u001b[1;32m    282\u001b[0m \u001b[39m    \u001b[39m\u001b[39m\"\"\"'forward()' applies the YOLOv5 FPN to input data.\"\"\"\u001b[39;00m\n\u001b[0;32m--> 283\u001b[0m     \u001b[39mreturn\u001b[39;00m x \u001b[39m+\u001b[39m \u001b[39mself\u001b[39m\u001b[39m.\u001b[39mcv2(\u001b[39mself\u001b[39m\u001b[39m.\u001b[39mcv1(x)) \u001b[39mif\u001b[39;00m \u001b[39mself\u001b[39m\u001b[39m.\u001b[39madd \u001b[39melse\u001b[39;00m \u001b[39mself\u001b[39m\u001b[39m.\u001b[39mcv2(\u001b[39mself\u001b[39m\u001b[39m.\u001b[39mcv1(x))\n",
            "File \u001b[0;32m~/anaconda3/lib/python3.11/site-packages/torch/nn/modules/module.py:1501\u001b[0m, in \u001b[0;36mModule._call_impl\u001b[0;34m(self, *args, **kwargs)\u001b[0m\n\u001b[1;32m   1496\u001b[0m \u001b[39m# If we don't have any hooks, we want to skip the rest of the logic in\u001b[39;00m\n\u001b[1;32m   1497\u001b[0m \u001b[39m# this function, and just call forward.\u001b[39;00m\n\u001b[1;32m   1498\u001b[0m \u001b[39mif\u001b[39;00m \u001b[39mnot\u001b[39;00m (\u001b[39mself\u001b[39m\u001b[39m.\u001b[39m_backward_hooks \u001b[39mor\u001b[39;00m \u001b[39mself\u001b[39m\u001b[39m.\u001b[39m_backward_pre_hooks \u001b[39mor\u001b[39;00m \u001b[39mself\u001b[39m\u001b[39m.\u001b[39m_forward_hooks \u001b[39mor\u001b[39;00m \u001b[39mself\u001b[39m\u001b[39m.\u001b[39m_forward_pre_hooks\n\u001b[1;32m   1499\u001b[0m         \u001b[39mor\u001b[39;00m _global_backward_pre_hooks \u001b[39mor\u001b[39;00m _global_backward_hooks\n\u001b[1;32m   1500\u001b[0m         \u001b[39mor\u001b[39;00m _global_forward_hooks \u001b[39mor\u001b[39;00m _global_forward_pre_hooks):\n\u001b[0;32m-> 1501\u001b[0m     \u001b[39mreturn\u001b[39;00m forward_call(\u001b[39m*\u001b[39margs, \u001b[39m*\u001b[39m\u001b[39m*\u001b[39mkwargs)\n\u001b[1;32m   1502\u001b[0m \u001b[39m# Do not call functions when jit is used\u001b[39;00m\n\u001b[1;32m   1503\u001b[0m full_backward_hooks, non_full_backward_hooks \u001b[39m=\u001b[39m [], []\n",
            "File \u001b[0;32m~/anaconda3/lib/python3.11/site-packages/ultralytics/nn/modules/conv.py:42\u001b[0m, in \u001b[0;36mConv.forward_fuse\u001b[0;34m(self, x)\u001b[0m\n\u001b[1;32m     40\u001b[0m \u001b[39mdef\u001b[39;00m \u001b[39mforward_fuse\u001b[39m(\u001b[39mself\u001b[39m, x):\n\u001b[1;32m     41\u001b[0m \u001b[39m    \u001b[39m\u001b[39m\"\"\"Perform transposed convolution of 2D data.\"\"\"\u001b[39;00m\n\u001b[0;32m---> 42\u001b[0m     \u001b[39mreturn\u001b[39;00m \u001b[39mself\u001b[39m\u001b[39m.\u001b[39mact(\u001b[39mself\u001b[39m\u001b[39m.\u001b[39mconv(x))\n",
            "File \u001b[0;32m~/anaconda3/lib/python3.11/site-packages/torch/nn/modules/module.py:1501\u001b[0m, in \u001b[0;36mModule._call_impl\u001b[0;34m(self, *args, **kwargs)\u001b[0m\n\u001b[1;32m   1496\u001b[0m \u001b[39m# If we don't have any hooks, we want to skip the rest of the logic in\u001b[39;00m\n\u001b[1;32m   1497\u001b[0m \u001b[39m# this function, and just call forward.\u001b[39;00m\n\u001b[1;32m   1498\u001b[0m \u001b[39mif\u001b[39;00m \u001b[39mnot\u001b[39;00m (\u001b[39mself\u001b[39m\u001b[39m.\u001b[39m_backward_hooks \u001b[39mor\u001b[39;00m \u001b[39mself\u001b[39m\u001b[39m.\u001b[39m_backward_pre_hooks \u001b[39mor\u001b[39;00m \u001b[39mself\u001b[39m\u001b[39m.\u001b[39m_forward_hooks \u001b[39mor\u001b[39;00m \u001b[39mself\u001b[39m\u001b[39m.\u001b[39m_forward_pre_hooks\n\u001b[1;32m   1499\u001b[0m         \u001b[39mor\u001b[39;00m _global_backward_pre_hooks \u001b[39mor\u001b[39;00m _global_backward_hooks\n\u001b[1;32m   1500\u001b[0m         \u001b[39mor\u001b[39;00m _global_forward_hooks \u001b[39mor\u001b[39;00m _global_forward_pre_hooks):\n\u001b[0;32m-> 1501\u001b[0m     \u001b[39mreturn\u001b[39;00m forward_call(\u001b[39m*\u001b[39margs, \u001b[39m*\u001b[39m\u001b[39m*\u001b[39mkwargs)\n\u001b[1;32m   1502\u001b[0m \u001b[39m# Do not call functions when jit is used\u001b[39;00m\n\u001b[1;32m   1503\u001b[0m full_backward_hooks, non_full_backward_hooks \u001b[39m=\u001b[39m [], []\n",
            "File \u001b[0;32m~/anaconda3/lib/python3.11/site-packages/torch/nn/modules/activation.py:396\u001b[0m, in \u001b[0;36mSiLU.forward\u001b[0;34m(self, input)\u001b[0m\n\u001b[1;32m    395\u001b[0m \u001b[39mdef\u001b[39;00m \u001b[39mforward\u001b[39m(\u001b[39mself\u001b[39m, \u001b[39minput\u001b[39m: Tensor) \u001b[39m-\u001b[39m\u001b[39m>\u001b[39m Tensor:\n\u001b[0;32m--> 396\u001b[0m     \u001b[39mreturn\u001b[39;00m F\u001b[39m.\u001b[39msilu(\u001b[39minput\u001b[39m, inplace\u001b[39m=\u001b[39m\u001b[39mself\u001b[39m\u001b[39m.\u001b[39minplace)\n",
            "File \u001b[0;32m~/anaconda3/lib/python3.11/site-packages/torch/nn/functional.py:2058\u001b[0m, in \u001b[0;36msilu\u001b[0;34m(input, inplace)\u001b[0m\n\u001b[1;32m   2056\u001b[0m     \u001b[39mreturn\u001b[39;00m handle_torch_function(silu, (\u001b[39minput\u001b[39m,), \u001b[39minput\u001b[39m, inplace\u001b[39m=\u001b[39minplace)\n\u001b[1;32m   2057\u001b[0m \u001b[39mif\u001b[39;00m inplace:\n\u001b[0;32m-> 2058\u001b[0m     \u001b[39mreturn\u001b[39;00m torch\u001b[39m.\u001b[39m_C\u001b[39m.\u001b[39m_nn\u001b[39m.\u001b[39msilu_(\u001b[39minput\u001b[39m)\n\u001b[1;32m   2059\u001b[0m \u001b[39mreturn\u001b[39;00m torch\u001b[39m.\u001b[39m_C\u001b[39m.\u001b[39m_nn\u001b[39m.\u001b[39msilu(\u001b[39minput\u001b[39m)\n",
            "\u001b[0;31mKeyboardInterrupt\u001b[0m: "
          ]
        }
      ],
      "source": [
        "# Kullanılacak videoyu tanımladık.\n",
        "kamera = cv2.VideoCapture(\"video.mp4\")\n",
        "font = cv2.FONT_HERSHEY_DUPLEX\n",
        "\n",
        "# FPS hesaplamak için kullanacağız bunları.\n",
        "prev_frame_time = 0\n",
        "new_frame_time = 0\n",
        "\n",
        "# Burada çizginin ve bölgenin koordinatları videoya göre değişir. Benim videonun boyutu 640*360 olduğu için ve orta hizaya\n",
        "# gelmesini istediğim için çizginin kordinatları 0,130 ve 640,280\n",
        "# O yüzden bölge kordinatları da Bu çizginin 20 piksel yukarısında ve aşağısında olacak iki tane paralel kenara uygun olacak\n",
        "# şekilde\n",
        "\n",
        "# yukarıdaki bölge\n",
        "region1=np.array([(0,130),(0,110),(640,260),(640,280)])\n",
        "region1 = region1.reshape((-1,1,2))\n",
        "\n",
        "# aşağı bölge\n",
        "region2=np.array([(0,130),(0,150),(640,300),(640,280)])\n",
        "region2 = region2.reshape((-1,1,2))\n",
        "\n",
        "# Üst bölgeye giren kişilerin id'leri burada tutuluyor\n",
        "total_ust=set()\n",
        "\n",
        "# Alt bölgeye giren kişilerin id'leri burada tutuluyor\n",
        "total_alt=set()\n",
        "\n",
        "\n",
        "# Gelen(Giren) kişileri id'leri burada tutuluyor\n",
        "first_in=set()\n",
        "\n",
        "# Giden (Çıkan) kişileri id'leri burada tutuluyor\n",
        "first_out=set()\n",
        "\n",
        "while True:\n",
        "\n",
        "    # FPS'i hesaplaıyoruz. İsterseniz ekrana yazdırabilirsiniz\n",
        "    new_frame_time = time.time()\n",
        "    fps = 1/(new_frame_time-prev_frame_time)\n",
        "    prev_frame_time = new_frame_time\n",
        "\n",
        "    #print(fps)\n",
        "\n",
        "\n",
        "\n",
        "    ret, frame = kamera.read()\n",
        "\n",
        "\n",
        "\n",
        "    if not ret:\n",
        "        break\n",
        "\n",
        "    # Resmi RGB uzayına dönüştürdük\n",
        "    rgb_img=cv2.cvtColor(frame,cv2.COLOR_BGR2RGB)\n",
        "    # Çizgiyi ekrana çizdiriyoruz.\n",
        "    cv2.line(frame, (0,130), (640,280), (255,0,255), 3)\n",
        "    # Resmi modele veriyoruz. Tracking yapılacağı için track modunda verdik.\n",
        "    results = model.track(rgb_img, persist=True, verbose=False)\n",
        "    # Kaç tane sonuç bulunmuşsa o kadar dönece bu döngü\n",
        "    for i in range(len(results[0].boxes)):\n",
        "        # Burada her bir nesne için döngü dönecek. Burada yapılan işlemlere her bir nesneye uygulanıyor o yüzden\n",
        "        # Tespit edilen nesnelerin konumları.\n",
        "        # x1 ve y1 sol üst köşe. x2 ve y2 sağ alt köşe koordinatları.\n",
        "        x1,y1,x2,y2=results[0].boxes.xyxy[i]\n",
        "        # Tespit edilen nesnelerin score değerleri.\n",
        "        score=results[0].boxes.conf[i]\n",
        "        # Tespit edilen nesnelerin ait hangi sınıfa ait oldukları\n",
        "        cls=results[0].boxes.cls[i]\n",
        "        # Tespit edilen nesnelerin id'leri\n",
        "        ids=results[0].boxes.id[i]\n",
        "\n",
        "        # Değerleri uygun bir fomata çevirdik.\n",
        "        x1,y1,x2,y2,score,cls,ids=int(x1),int(y1),int(x2),int(y2),float(score),int(cls),int(ids)\n",
        "\n",
        "        # burada 0.5' lik bir threshold uyguladık. Tespit edilme değeri daha küçükse değerlendirmeye almıyoruz.\n",
        "        if score<0.5:\n",
        "            continue\n",
        "        # İnsan sayacağımız için insan dışındaki diğer nesneleri değerlendirmeye almıyoruz.\n",
        "        if cls!=0:\n",
        "            continue\n",
        "\n",
        "        # İsterseniz nesneleri kutuna içine alabilirsiniz aşağıdaki komut ile\n",
        "        #cv2.rectangle(frame,(x1,y1),(x2,y2),(0,255,0),2)\n",
        "\n",
        "        # Nesnelerin ortasının konumu buluyoruz.\n",
        "        cx=int(x1/2+x2/2)\n",
        "        cy=int(y1/2+y2/2)\n",
        "        # nesnelerin orta noktalrını bir daire olarak ekranda göstereceğiz.\n",
        "        cv2.circle(frame,(cx,cy),4,(0,255,255),-1)\n",
        "\n",
        "        # Nesnenin orta noktasının üst bölgeye girip girmedğine bakıyoruz\n",
        "        inside_region1=cv2.pointPolygonTest(region1,(cx,cy),False)\n",
        "\n",
        "        # Eğer nesnenin orta noktası üst bölgeye girmişse if bloğunun içine girilir.\n",
        "        if inside_region1>0:\n",
        "\n",
        "\n",
        "            # Bu komut ile nesnenin alt bölgeye girip girmediğne bakıyoruz.\n",
        "            # Bu bloğun içinde olduğumuz için zaten üst bölgesinin içinde bulunuyor.\n",
        "            if ids in total_alt:\n",
        "                # O yüzden eğer alt bölgeye girilmişse kişi daha öncesinde girmiştir.\n",
        "                # Bu durumda kişi alt sonra üst bölgeye girmiştir. Bu da kişinin kameradan uzaklaştığını gösterir.\n",
        "                # Bu yüzden kişi çıkıyordur.\n",
        "                # Çıkan kişi listesine bu kişinin id'sini ekliyoruz.\n",
        "                first_out.add(ids)\n",
        "                #Çizginin rengini  değiştridik. Kişi çıktığı için\n",
        "                cv2.line(frame, (0,130), (640,280), (255,255,255), 3)\n",
        "            # Üst bölgeye giren kişinin id'sini ekledik.\n",
        "            # Bunu alt bölgeye girip girilmediğini kontrol ettikten sonra yapıyoruz.\n",
        "            total_ust.add(ids)\n",
        "\n",
        "        # Eğer nesnenin orta noktası alt bölgeye girmişse if bloğunun içine girilir.\n",
        "        # Yukarıdaki ile benzer bir mantık var\n",
        "        inside_region2=cv2.pointPolygonTest(region2,(cx,cy),False)\n",
        "        if inside_region2>0:\n",
        "            if ids in total_ust:\n",
        "                cv2.line(frame, (0,130), (640,+280), (255,255,255), 3)\n",
        "                first_in.add(ids)\n",
        "            total_alt.add(ids)\n",
        "\n",
        "\n",
        "\n",
        "    # Giren ve çıkan kişi sayısını ekranda göstermek için bunları string formatına çevirdik\n",
        "    # Burada giren ve çıkan kişi sayısı bunlarda kaç tane eleman varsa o kadardır.\n",
        "    # Burada set kullanma sebebimiz, bunlarda aynı elemanın sadece bir kere bulunmasıyla ilgili.\n",
        "    # Eğer liste olsaydı aynı eleman birden fazla olabilirdi\n",
        "    first_in_str='IN: '+str(len(first_in))\n",
        "    first_out_str='OUT: '+str(len(first_out))\n",
        "\n",
        "    # Ekrana yazdırırken güzel dursun diye görüntünün sol üst ve sağ üst köşesine arka plan rengi ayarladık.\n",
        "    frame[0:40,0:120]=(102,0,153)\n",
        "    frame[0:40,510:640]=(102,0,153)\n",
        "    # Ekranda gösteriyoruz.\n",
        "    cv2.putText(frame, first_in_str,(0, 30), font, 1, (255,255,255), 1)\n",
        "    cv2.putText(frame, first_out_str,(510, 30), font, 1, (255,255,255), 1)\n",
        "    #print('IN: ', len(first_in), 'OUT: ', len(first_out))\n",
        "\n",
        "    # İsterseniz bölgeleri ekranda gösterebilrsiniz.\n",
        "    #cv2.polylines(frame,[region1],True,(255,0,0),2)\n",
        "    #cv2.polylines(frame,[region2],True,(255,0,255),2)\n",
        "\n",
        "    cv2.imshow('',frame)\n",
        "\n",
        "    if cv2.waitKey(1) & 0xFF == ord(\"q\"):\n",
        "        break\n",
        "\n",
        "kamera.release()\n",
        "cv2.destroyAllWindows()"
      ]
    }
  ],
  "metadata": {
    "colab": {
      "provenance": []
    },
    "kernelspec": {
      "display_name": "Python 3",
      "name": "python3"
    },
    "language_info": {
      "codemirror_mode": {
        "name": "ipython",
        "version": 3
      },
      "file_extension": ".py",
      "mimetype": "text/x-python",
      "name": "python",
      "nbconvert_exporter": "python",
      "pygments_lexer": "ipython3",
      "version": "3.11.3"
    }
  },
  "nbformat": 4,
  "nbformat_minor": 0
}
